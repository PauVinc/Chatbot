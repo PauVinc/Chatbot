{
 "cells": [
  {
   "cell_type": "code",
   "execution_count": 1,
   "id": "4310775e",
   "metadata": {},
   "outputs": [],
   "source": [
    "# Define a dictionary of question-response pairs\n",
    "travel_responses = {\n",
    "     'book': 'You can book your trip on our website or contact our customer service.',\n",
    "    'recommend': 'I recommend visiting {}. You might also enjoy {} for your trip.',\n",
    "    'destination': 'Some popular destinations include {} and {}.',\n",
    "    'travel': 'Our travel packages include {} and {}.',\n",
    "    'time to visit': 'The best time to visit {} is during {} when the weather is {}.',\n",
    "    'weather like in': 'The weather in {} is typically {} during {}.',\n",
    "    'COVID-19 guidelines': 'For the latest COVID-19 guidelines in {}, please check with local authorities or visit our website for updates.',\n",
    "    'popular attractions': 'Some popular attractions in {} include {}, {}, and {}.',\n",
    "    'local cuisine': 'You must try the local cuisine in {}! Some popular dishes include {}, {} and {}.',\n",
    "    'events happening': 'Check our events calendar for {} to find exciting events and festivals during your visit.',\n",
    "    'best hotels in': 'For the best hotels in {}, consider {} and {}. These options offer excellent amenities and reviews.',\n",
    "    'travel restrictions': 'Please check our website or contact our customer service for the latest travel restrictions in {}.',\n",
    "    'family-friendly activities': 'There are plenty of family-friendly activities in {} such as {}, {} and {}.',\n",
    "    'adventure activities': 'For adventure seekers, {} offers activities like {}, {} and {}.',\n",
    "    'romantic places': 'Discover romantic spots in {} like {}, {} and {} for a memorable experience.',\n",
    "    'transportation options': 'In {}, you can get around using {}, {} or {}.',\n",
    "    'packing essentials': 'When packing for {}, don\\'t forget essentials like {}, {}, and {}.',\n",
    "    'cultural festivals': 'Experience the rich culture of {} by attending festivals like {}, {} and {}.',\n",
    "    'historical sites': 'Explore the history of {} by visiting sites such as {}, {} and {}.',\n",
    "    'best beaches': 'Enjoy the sun and sand at the best beaches in {} like {}, {} and {}.',\n",
    "    'wildlife sanctuaries': 'Nature enthusiasts can explore wildlife sanctuaries in {} such as {}, {} and {}.',\n",
    "    'budget-friendly options': 'For budget-friendly options in {}, consider {}, {} and {}.',\n",
    "    'local traditions': 'Learn about local traditions in {} such as {}, {} and {}.',\n",
    "    'scenic views': 'Don\\'t miss the scenic views in {} from locations like {}, {} and {}.'\n",
    "}"
   ]
  },
  {
   "cell_type": "code",
   "execution_count": 2,
   "id": "9162ae4b",
   "metadata": {},
   "outputs": [],
   "source": [
    "def travel_chat():\n",
    "    print(\"Welcome to Tours and Travels Chatbot. Type 'exit' to end the conversation.\")\n",
    "    while True:\n",
    "        user_input = input(\"You: \")\n",
    "        if user_input.lower() == 'exit':\n",
    "            print(\"Goodbye!\")\n",
    "            break\n",
    "        else:\n",
    "            # Check if the user's input contains any keyword from the dictionary\n",
    "            matched_response = next((response for keyword, response in travel_responses.items() if keyword in user_input), None)\n",
    "            if matched_response:\n",
    "                print(\"Bot:\", matched_response)cultural \n",
    "            else:\n",
    "                print(\"Bot: I'm sorry, I didn't understand that. Can you please rephrase your question?\")\n"
   ]
  },
  {
   "cell_type": "code",
   "execution_count": 3,
   "id": "a19766a1",
   "metadata": {},
   "outputs": [
    {
     "name": "stdout",
     "output_type": "stream",
     "text": [
      "Welcome to Tours and Travels Chatbot. Type 'exit' to end the conversation.\n",
      "You: scenic views\n",
      "Bot: Don't miss the scenic views in {} from locations like {}, {} and {}.\n",
      "You: book\n",
      "Bot: You can book your trip on our website or contact our customer service.\n",
      "You: best hotels in\n",
      "Bot: For the best hotels in {}, consider {} and {}. These options offer excellent amenities and reviews.\n",
      "You: packing essentials\n",
      "Bot: When packing for {}, don't forget essentials like {}, {}, and {}.\n",
      "You: travel\n",
      "Bot: Our travel packages include {} and {}.\n",
      "You: ,uyr\n",
      "Bot: I'm sorry, I didn't understand that. Can you please rephrase your question?\n",
      "You: local traditions\n",
      "Bot: Learn about local traditions in {} such as {}, {} and {}.\n",
      "You: exit\n",
      "Goodbye!\n"
     ]
    }
   ],
   "source": [
    "# Start the extended chat\n",
    "travel_chat()"
   ]
  },
  {
   "cell_type": "code",
   "execution_count": null,
   "id": "5590fb45",
   "metadata": {},
   "outputs": [],
   "source": []
  }
 ],
 "metadata": {
  "kernelspec": {
   "display_name": "Python 3 (ipykernel)",
   "language": "python",
   "name": "python3"
  },
  "language_info": {
   "codemirror_mode": {
    "name": "ipython",
    "version": 3
   },
   "file_extension": ".py",
   "mimetype": "text/x-python",
   "name": "python",
   "nbconvert_exporter": "python",
   "pygments_lexer": "ipython3",
   "version": "3.11.5"
  }
 },
 "nbformat": 4,
 "nbformat_minor": 5
}
